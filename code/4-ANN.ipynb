{
 "cells": [
  {
   "cell_type": "markdown",
   "metadata": {},
   "source": [
    "# Feedforward Neural Network\n",
    "Write your own neural network whose weight updated by back propagation algorithms."
   ]
  },
  {
   "cell_type": "code",
   "execution_count": 1,
   "metadata": {},
   "outputs": [],
   "source": [
    "import numpy as np \r\n",
    "import pandas as pd\r\n",
    "\r\n",
    "%matplotlib widget\r\n",
    "from matplotlib import pyplot as plt\r\n",
    "plt.style.use('dark_background')"
   ]
  },
  {
   "cell_type": "markdown",
   "metadata": {
    "toc-hr-collapsed": true
   },
   "source": [
    "## Implement Single Layer Unit\n",
    "implement forward propagation and backward propagation of each layer unit."
   ]
  },
  {
   "cell_type": "markdown",
   "metadata": {},
   "source": [
    "### Affine Layer\r\n",
    "#### Math Formula\r\n",
    "\r\n",
    "$$\r\n",
    "y=xW+b\r\n",
    "$$\r\n",
    "\r\n",
    "#### Optimization Method\r\n",
    "using Batch Gradient Descent to update weight of the model"
   ]
  },
  {
   "cell_type": "code",
   "execution_count": 2,
   "metadata": {},
   "outputs": [],
   "source": [
    "class Affine:\n",
    "    def __init__(self,m,n):\n",
    "        self.W = np.random.rand(m,n)\n",
    "        self.b = np.random.rand(1,n)\n",
    "\n",
    "    def forward(self,x):\n",
    "        self.x = x\n",
    "        return x@self.W+self.b\n",
    "\n",
    "    def update(self,lr):\n",
    "        self.W -= lr*self.dW\n",
    "        self.b -= lr*self.db\n",
    "\n",
    "    def backward(self,grad):\n",
    "        self.dW = self.x.T@grad\n",
    "        self.db = np.sum(grad, axis=0)\n",
    "        dx = grad@self.W.T\n",
    "        return dx   "
   ]
  },
  {
   "cell_type": "markdown",
   "metadata": {},
   "source": [
    "### ReLu Function Unit\n",
    "#### Math Formula\n",
    "$$\n",
    "y=\n",
    "\\begin{cases}\n",
    "0,\\quad x\\leq0\\\\\n",
    "x,\\quad x>0\n",
    "\\end{cases}\n",
    "$$"
   ]
  },
  {
   "cell_type": "code",
   "execution_count": 3,
   "metadata": {},
   "outputs": [],
   "source": [
    "class ReLu:\n",
    "    def forward(self,x):\n",
    "        self.threshold = 1 - (x < 0)\n",
    "        return x*self.threshold\n",
    "    def backward(self,grad):\n",
    "        return grad*self.threshold"
   ]
  },
  {
   "cell_type": "markdown",
   "metadata": {},
   "source": [
    "### Softmax Function Unit\n",
    "#### Math Formula\n",
    "$$\n",
    "y = \\frac{e^x}{\\sum_j e^{x_j}}\n",
    "$$"
   ]
  },
  {
   "cell_type": "code",
   "execution_count": 4,
   "metadata": {},
   "outputs": [],
   "source": [
    "class Softmax:\n",
    "    def forward(self,x):\n",
    "        # avoid value overflow\n",
    "        x = x - np.max(x,axis=1).reshape(-1,1)\n",
    "        self.e_x = np.exp(x)\n",
    "        self.sum = np.sum(self.e_x,axis=1).reshape(-1,1)\n",
    "        return self.e_x/self.sum\n",
    "\n",
    "    def backward(self,grad):\n",
    "        return grad*(self.e_x*self.sum-self.e_x**2)/self.sum**2"
   ]
  },
  {
   "cell_type": "markdown",
   "metadata": {},
   "source": [
    "### MSELoss Unit\n",
    "#### Math Formula\n",
    "$$\n",
    "loss=\\frac1m \\sum_{i=1}^m\\sum_{j=1}^n(h(x_j^{(i)})-y_j^{(i)})^2\n",
    "$$"
   ]
  },
  {
   "cell_type": "code",
   "execution_count": 5,
   "metadata": {},
   "outputs": [],
   "source": [
    "class MSELoss:\r\n",
    "    def forward(self,pred,true):\r\n",
    "        m = len(pred)\r\n",
    "        self.pred = pred\r\n",
    "        self.true = true\r\n",
    "        return np.sum((pred-true)**2)/m\r\n",
    "    \r\n",
    "    def backward(self):\r\n",
    "        return self.pred-self.true"
   ]
  },
  {
   "cell_type": "markdown",
   "metadata": {},
   "source": [
    "## Build the neural network\n",
    "\n",
    "bulid a 3-layers neural network\n",
    "\n",
    "| Layer  | Size | Activation function |\n",
    "| ------ | ---- | ------------------- |\n",
    "| input  | 64   |                     |\n",
    "| hidden | 96   | ReLu                |\n",
    "| ouput  | 10   | Softmax             |"
   ]
  },
  {
   "cell_type": "code",
   "execution_count": 6,
   "metadata": {},
   "outputs": [],
   "source": [
    "class Model:\n",
    "    def __init__(self,m,n,lr=.001):\n",
    "        self.lr = lr\n",
    "        self.affine1 = Affine(m,96)\n",
    "        self.relu = ReLu()\n",
    "        self.affine2 = Affine(96,n)\n",
    "        # self.affine = Affine(m,n)\n",
    "        self.softmax = Softmax()\n",
    "\n",
    "    def forward(self,x):\n",
    "        x = self.affine1.forward(x)\n",
    "        x = self.relu.forward(x)\n",
    "        x = self.affine2.forward(x)\n",
    "        # x = self.affine.forward(x)\n",
    "        self.y = self.softmax.forward(x)\n",
    "        return self.y\n",
    "\n",
    "    def backward(self,grad):\n",
    "        grad = self.softmax.backward(grad)\n",
    "        grad = self.affine2.backward(grad)\n",
    "        grad = self.relu.backward(grad)\n",
    "        grad = self.affine1.backward(grad)\n",
    "        self.affine2.update(self.lr)\n",
    "        self.affine1.update(self.lr)\n",
    "        # grad = self.affine.backward(grad)\n",
    "        # self.affine.update(self.lr)\n",
    "        return grad"
   ]
  },
  {
   "cell_type": "markdown",
   "metadata": {
    "toc-hr-collapsed": true
   },
   "source": [
    "## Try with MNIST\n",
    "### Load dataset and preprocessing"
   ]
  },
  {
   "cell_type": "code",
   "execution_count": 7,
   "metadata": {},
   "outputs": [],
   "source": [
    "from sklearn.datasets import load_digits\n",
    "\n",
    "dataset = load_digits()\n",
    "X = dataset.data\n",
    "y = dataset.target.reshape(-1,1)\n",
    "\n",
    "from sklearn.preprocessing import OneHotEncoder,StandardScaler\n",
    "\n",
    "encoder = OneHotEncoder()\n",
    "scaler = StandardScaler()\n",
    "X = scaler.fit_transform(X)\n",
    "y = encoder.fit_transform(y).toarray()\n",
    "# .toarray() is import here as onehotencode return sparse martix which is not ndarray"
   ]
  },
  {
   "cell_type": "markdown",
   "metadata": {},
   "source": [
    "### dataset split"
   ]
  },
  {
   "cell_type": "code",
   "execution_count": 8,
   "metadata": {},
   "outputs": [],
   "source": [
    "from sklearn.model_selection import train_test_split\n",
    "\n",
    "X_train,X_test,y_train,y_test = train_test_split(X,y)"
   ]
  },
  {
   "cell_type": "markdown",
   "metadata": {},
   "source": [
    "### Train the model"
   ]
  },
  {
   "cell_type": "code",
   "execution_count": 9,
   "metadata": {
    "tags": []
   },
   "outputs": [
    {
     "data": {
      "application/vnd.jupyter.widget-view+json": {
       "model_id": "e2bfdc62fc8f418c9ade13991de10748",
       "version_major": 2,
       "version_minor": 0
      },
      "text/plain": "Canvas(toolbar=Toolbar(toolitems=[('Home', 'Reset original view', 'home', 'home'), ('Back', 'Back to previous …"
     },
     "metadata": {},
     "output_type": "display_data"
    },
    {
     "data": {
      "text/plain": "[<matplotlib.lines.Line2D at 0x1f4348bf880>]"
     },
     "execution_count": 9,
     "metadata": {},
     "output_type": "execute_result"
    }
   ],
   "source": [
    "model = Model(64,10)\n",
    "mseloss = MSELoss()\n",
    "\n",
    "epoches = 3000\n",
    "iteration = []\n",
    "losses = []\n",
    "for i in range(epoches):\n",
    "    y_pred = model.forward(X_train)\n",
    "    loss = mseloss.forward(y_pred,y_train)\n",
    "\n",
    "    assert not np.isnan(loss)\n",
    "    if i % 100 == 0:\n",
    "        # print(f'epoch: {i}, loss: {loss}')\n",
    "        iteration.append(i)\n",
    "        losses.append(loss)\n",
    "    grad = mseloss.backward()\n",
    "    model.backward(grad)\n",
    "\n",
    "plt.xlabel('iterations')\n",
    "plt.ylabel('loss')\n",
    "plt.plot(iteration,losses)"
   ]
  },
  {
   "cell_type": "markdown",
   "metadata": {},
   "source": [
    "## Evalue the result"
   ]
  },
  {
   "cell_type": "code",
   "execution_count": 10,
   "metadata": {},
   "outputs": [
    {
     "data": {
      "text/html": "<div>\n<style scoped>\n    .dataframe tbody tr th:only-of-type {\n        vertical-align: middle;\n    }\n\n    .dataframe tbody tr th {\n        vertical-align: top;\n    }\n\n    .dataframe thead th {\n        text-align: right;\n    }\n</style>\n<table border=\"1\" class=\"dataframe\">\n  <thead>\n    <tr style=\"text-align: right;\">\n      <th></th>\n      <th>pred</th>\n      <th>true</th>\n    </tr>\n  </thead>\n  <tbody>\n    <tr>\n      <th>0</th>\n      <td>0</td>\n      <td>0</td>\n    </tr>\n    <tr>\n      <th>1</th>\n      <td>7</td>\n      <td>7</td>\n    </tr>\n    <tr>\n      <th>2</th>\n      <td>2</td>\n      <td>2</td>\n    </tr>\n    <tr>\n      <th>3</th>\n      <td>4</td>\n      <td>4</td>\n    </tr>\n    <tr>\n      <th>4</th>\n      <td>0</td>\n      <td>0</td>\n    </tr>\n    <tr>\n      <th>...</th>\n      <td>...</td>\n      <td>...</td>\n    </tr>\n    <tr>\n      <th>445</th>\n      <td>6</td>\n      <td>6</td>\n    </tr>\n    <tr>\n      <th>446</th>\n      <td>2</td>\n      <td>2</td>\n    </tr>\n    <tr>\n      <th>447</th>\n      <td>4</td>\n      <td>4</td>\n    </tr>\n    <tr>\n      <th>448</th>\n      <td>5</td>\n      <td>5</td>\n    </tr>\n    <tr>\n      <th>449</th>\n      <td>7</td>\n      <td>7</td>\n    </tr>\n  </tbody>\n</table>\n<p>450 rows × 2 columns</p>\n</div>",
      "text/plain": "     pred  true\n0       0     0\n1       7     7\n2       2     2\n3       4     4\n4       0     0\n..    ...   ...\n445     6     6\n446     2     2\n447     4     4\n448     5     5\n449     7     7\n\n[450 rows x 2 columns]"
     },
     "execution_count": 10,
     "metadata": {},
     "output_type": "execute_result"
    }
   ],
   "source": [
    "y_pred = encoder.inverse_transform(model.forward(X_test))\n",
    "y_true = encoder.inverse_transform(y_test)\n",
    "result = pd.DataFrame(np.hstack((y_pred,y_true)),columns=['pred','true'])\n",
    "result"
   ]
  },
  {
   "cell_type": "code",
   "execution_count": 11,
   "metadata": {
    "tags": []
   },
   "outputs": [
    {
     "name": "stdout",
     "output_type": "stream",
     "text": [
      "accuracy: 96%\n"
     ]
    }
   ],
   "source": [
    "from sklearn.metrics import accuracy_score,recall_score,precision_score\n",
    "\n",
    "accuracy = int(100*round(accuracy_score(y_true,y_pred),2))\n",
    "\n",
    "print(f'accuracy: {accuracy}%')"
   ]
  },
  {
   "cell_type": "code",
   "execution_count": 12,
   "metadata": {},
   "outputs": [
    {
     "data": {
      "text/html": "<div>\n<style scoped>\n    .dataframe tbody tr th:only-of-type {\n        vertical-align: middle;\n    }\n\n    .dataframe tbody tr th {\n        vertical-align: top;\n    }\n\n    .dataframe thead th {\n        text-align: right;\n    }\n</style>\n<table border=\"1\" class=\"dataframe\">\n  <thead>\n    <tr style=\"text-align: right;\">\n      <th></th>\n      <th>precision</th>\n      <th>recall</th>\n    </tr>\n  </thead>\n  <tbody>\n    <tr>\n      <th>0</th>\n      <td>1.00</td>\n      <td>1.00</td>\n    </tr>\n    <tr>\n      <th>1</th>\n      <td>0.95</td>\n      <td>0.95</td>\n    </tr>\n    <tr>\n      <th>2</th>\n      <td>0.96</td>\n      <td>0.98</td>\n    </tr>\n    <tr>\n      <th>3</th>\n      <td>0.96</td>\n      <td>0.96</td>\n    </tr>\n    <tr>\n      <th>4</th>\n      <td>1.00</td>\n      <td>0.91</td>\n    </tr>\n    <tr>\n      <th>5</th>\n      <td>0.95</td>\n      <td>1.00</td>\n    </tr>\n    <tr>\n      <th>6</th>\n      <td>0.96</td>\n      <td>0.98</td>\n    </tr>\n    <tr>\n      <th>7</th>\n      <td>0.96</td>\n      <td>1.00</td>\n    </tr>\n    <tr>\n      <th>8</th>\n      <td>0.95</td>\n      <td>0.91</td>\n    </tr>\n    <tr>\n      <th>9</th>\n      <td>0.91</td>\n      <td>0.91</td>\n    </tr>\n  </tbody>\n</table>\n</div>",
      "text/plain": "   precision  recall\n0       1.00    1.00\n1       0.95    0.95\n2       0.96    0.98\n3       0.96    0.96\n4       1.00    0.91\n5       0.95    1.00\n6       0.96    0.98\n7       0.96    1.00\n8       0.95    0.91\n9       0.91    0.91"
     },
     "execution_count": 12,
     "metadata": {},
     "output_type": "execute_result"
    }
   ],
   "source": [
    "precision_recall = [np.round(f(y_true,y_pred,average=None).reshape(-1,1),decimals=2) for f in (precision_score,recall_score)]\n",
    "eval_df = pd.DataFrame(np.hstack(precision_recall),columns=['precision','recall'])\n",
    "eval_df"
   ]
  }
 ],
 "metadata": {
  "kernelspec": {
   "display_name": "Python 3.8.7 64-bit",
   "metadata": {
    "interpreter": {
     "hash": "1baa965d5efe3ac65b79dfc60c0d706280b1da80fedb7760faf2759126c4f253"
    }
   },
   "name": "python3"
  },
  "language_info": {
   "codemirror_mode": {
    "name": "ipython",
    "version": 3
   },
   "file_extension": ".py",
   "mimetype": "text/x-python",
   "name": "python",
   "nbconvert_exporter": "python",
   "pygments_lexer": "ipython3",
   "version": "3.8.7"
  },
  "toc-autonumbering": false,
  "toc-showcode": false,
  "toc-showmarkdowntxt": false,
  "toc-showtags": false
 },
 "nbformat": 4,
 "nbformat_minor": 4
}